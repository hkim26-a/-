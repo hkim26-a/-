{
  "cells": [
    {
      "cell_type": "markdown",
      "metadata": {
        "id": "view-in-github",
        "colab_type": "text"
      },
      "source": [
        "<a href=\"https://colab.research.google.com/github/hkim26-a/-/blob/%EA%B8%B0%EC%B4%88%ED%99%95%EB%A5%A0%EA%B3%BC%ED%86%B5%EA%B3%84/Colab_%EC%8B%9C%EC%9E%91%ED%95%98%EA%B8%B0.ipynb\" target=\"_parent\"><img src=\"https://colab.research.google.com/assets/colab-badge.svg\" alt=\"Open In Colab\"/></a>"
      ]
    },
    {
      "cell_type": "code",
      "source": [
        "a = [2, 3, 4, 5, 6]\n",
        "rev_a = []\n",
        "for _ in range(len(a)):\n",
        "  rev_a.append(a.pop())\n",
        "\n",
        "print(rev_a)"
      ],
      "metadata": {
        "id": "cheWwxVLMpq2",
        "outputId": "05e0c272-b882-4734-dbcb-3839ccbd28b1",
        "colab": {
          "base_uri": "https://localhost:8080/"
        }
      },
      "execution_count": 2,
      "outputs": [
        {
          "output_type": "stream",
          "name": "stdout",
          "text": [
            "[6, 5, 4, 3, 2]\n"
          ]
        }
      ]
    }
  ],
  "metadata": {
    "colab": {
      "name": "Colab 시작하기",
      "toc_visible": true,
      "provenance": [],
      "include_colab_link": true
    },
    "kernelspec": {
      "display_name": "Python 3",
      "name": "python3"
    }
  },
  "nbformat": 4,
  "nbformat_minor": 0
}